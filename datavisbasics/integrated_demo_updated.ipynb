{
 "cells": [
  {
   "cell_type": "markdown",
   "metadata": {},
   "source": [
    "# Integrated Data Analysis Demo\n",
    "\n",
    "This notebook demonstrates a complete workflow using pandas, matplotlib, and seaborn."
   ]
  },
  {
   "cell_type": "code",
   "execution_count": null,
   "metadata": {},
   "outputs": [],
   "source": [
    "import pandas as pd\n",
    "import numpy as np\n",
    "import matplotlib.pyplot as plt\n",
    "import seaborn as sns\n",
    "import os\n",
    "\n",
    "# Create directories for saving plots and data if they don't exist\n",
    "if not os.path.exists('plots'):\n",
    "    os.makedirs('plots')\n",
    "if not os.path.exists('data'):\n",
    "    os.makedirs('data')\n",
    "\n",
    "# Set the seaborn style for all plots\n",
    "sns.set_theme(style=\"whitegrid\")"
   ]
  },
  {
   "cell_type": "markdown",
   "metadata": {},
   "source": [
    "## Step 1: Generate a synthetic dataset (simulating real-world data)"
   ]
  },
  {
   "cell_type": "code",
   "execution_count": null,
   "metadata": {},
   "outputs": [],
   "source": [
    "# Set random seed for reproducibility\n",
    "np.random.seed(42)\n",
    "\n",
    "# Number of samples\n",
    "n_samples = 200\n",
    "\n",
    "# Create a DataFrame with synthetic data\n",
    "data = {\n",
    "    # Customer demographics\n",
    "    'customer_id': range(1, n_samples + 1),\n",
    "    'age': np.random.randint(18, 80, n_samples),\n",
    "    'gender': np.random.choice(['Male', 'Female'], n_samples),\n",
    "    'income': np.random.normal(50000, 15000, n_samples),\n",
    "    \n",
    "    # Purchase behavior\n",
    "    'purchase_frequency': np.random.randint(1, 30, n_samples),\n",
    "    'avg_purchase_value': np.random.normal(100, 50, n_samples),\n",
    "    \n",
    "    # Product preferences (categories A through E)\n",
    "    'product_category': np.random.choice(['A', 'B', 'C', 'D', 'E'], n_samples),\n",
    "    \n",
    "    # Customer satisfaction\n",
    "    'satisfaction_score': np.random.randint(1, 11, n_samples),\n",
    "    \n",
    "    # Customer tenure (in months)\n",
    "    'tenure_months': np.random.randint(1, 60, n_samples)\n",
    "}\n",
    "\n",
    "# Create the DataFrame\n",
    "df = pd.DataFrame(data)"
   ]
  },
  {
   "cell_type": "code",
   "execution_count": null,
   "metadata": {},
   "outputs": [],
   "source": [
    "# Add some realistic correlations\n",
    "# Higher income tends to correlate with higher purchase value\n",
    "df['avg_purchase_value'] = df['avg_purchase_value'] + df['income'] * 0.0003 + np.random.normal(0, 20, n_samples)\n",
    "\n",
    "# Longer tenure tends to correlate with higher satisfaction\n",
    "df['satisfaction_score'] = df['satisfaction_score'] + df['tenure_months'] * 0.03 + np.random.normal(0, 1, n_samples)\n",
    "df['satisfaction_score'] = df['satisfaction_score'].clip(1, 10).round().astype(int)\n",
    "\n",
    "# Add a calculated field: total spend\n",
    "df['total_spend'] = df['purchase_frequency'] * df['avg_purchase_value']\n",
    "\n",
    "# Add some missing values to simulate real-world data\n",
    "indices = np.random.choice(n_samples, 20, replace=False)\n",
    "df.loc[indices, 'income'] = np.nan\n",
    "\n",
    "indices = np.random.choice(n_samples, 15, replace=False)\n",
    "df.loc[indices, 'satisfaction_score'] = np.nan"
   ]
  },
  {
   "cell_type": "code",
   "execution_count": null,
   "metadata": {},
   "outputs": [],
   "source": [
    "# Save the raw data\n",
    "df.to_csv('data/customer_data_raw.csv', index=False)\n",
    "print(f\"Raw data saved to 'data/customer_data_raw.csv' ({df.shape[0]} rows, {df.shape[1]} columns)\")\n",
    "\n",
    "# Display the first few rows\n",
    "df.tail(3)"
   ]
  },
  {
   "cell_type": "markdown",
   "metadata": {},
   "source": [
    "## Step 2: Data Exploration and Cleaning"
   ]
  },
  {
   "cell_type": "code",
   "execution_count": null,
   "metadata": {},
   "outputs": [],
   "source": [
    "# Display basic information about the dataset\n",
    "print(\"Dataset Overview:\")\n",
    "print(f\"Shape: {df.shape}\")\n",
    "\n",
    "print(\"\\nData Types:\")\n",
    "print(df.dtypes)"
   ]
  },
  {
   "cell_type": "code",
   "execution_count": null,
   "metadata": {},
   "outputs": [],
   "source": [
    "# Summary statistics\n",
    "print(\"Summary Statistics:\")\n",
    "df.describe()"
   ]
  },
  {
   "cell_type": "code",
   "execution_count": null,
   "metadata": {},
   "outputs": [],
   "source": [
    "# Check for missing values\n",
    "print(\"Missing Values:\")\n",
    "missing_values = df.isnull().sum()\n",
    "missing_values[missing_values > 0]"
   ]
  },
  {
   "cell_type": "code",
   "execution_count": null,
   "metadata": {},
   "outputs": [],
   "source": [
    "# Clean the data\n",
    "print(\"Cleaning the data...\")\n",
    "\n",
    "# Fill missing income values with median\n",
    "median_income = df['income'].median()\n",
    "df['income'] = df['income'].fillna(median_income)\n",
    "\n",
    "# Fill missing satisfaction scores with median\n",
    "median_satisfaction = df['satisfaction_score'].median()\n",
    "df['satisfaction_score'] = df['satisfaction_score'].fillna(median_satisfaction)\n",
    "df['satisfaction_score'] = df['satisfaction_score'].round().astype(int)\n",
    "\n",
    "# Check if all missing values are handled\n",
    "print(\"\\nRemaining Missing Values:\")\n",
    "missing_values = df.isnull().sum()\n",
    "print(missing_values[missing_values > 0] if any(missing_values > 0) else \"No missing values remaining\")"
   ]
  },
  {
   "cell_type": "code",
   "execution_count": null,
   "metadata": {},
   "outputs": [],
   "source": [
    "# Save the cleaned data\n",
    "df.to_csv('data/customer_data_cleaned.csv', index=False)\n",
    "print(\"Cleaned data saved to 'data/customer_data_cleaned.csv'\")"
   ]
  },
  {
   "cell_type": "markdown",
   "metadata": {},
   "source": [
    "## Step 3: Exploratory Data Analysis with Visualizations"
   ]
  },
  {
   "cell_type": "markdown",
   "metadata": {},
   "source": [
    "### 1. Distribution of Age"
   ]
  },
  {
   "cell_type": "code",
   "execution_count": null,
   "metadata": {},
   "outputs": [],
   "source": [
    "plt.figure(figsize=(10, 6))\n",
    "sns.histplot(df['age'], kde=True, bins=20)\n",
    "plt.title('Distribution of Customer Age', fontsize=14)\n",
    "plt.xlabel('Age', fontsize=12)\n",
    "plt.ylabel('Count', fontsize=12)\n",
    "plt.savefig('plots/age_distribution.png', dpi=300, bbox_inches='tight')\n",
    "plt.show()"
   ]
  },
  {
   "cell_type": "markdown",
   "metadata": {},
   "source": [
    "### 2. Gender Distribution"
   ]
  },
  {
   "cell_type": "code",
   "execution_count": null,
   "metadata": {},
   "outputs": [],
   "source": [
    "plt.figure(figsize=(8, 6))\n",
    "gender_counts = df['gender'].value_counts()\n",
    "sns.barplot(x=gender_counts.index, y=gender_counts.values)\n",
    "plt.title('Gender Distribution', fontsize=14)\n",
    "plt.xlabel('Gender', fontsize=12)\n",
    "plt.ylabel('Count', fontsize=12)\n",
    "plt.savefig('plots/gender_distribution.png', dpi=300, bbox_inches='tight')\n",
    "plt.show()"
   ]
  },
  {
   "cell_type": "markdown",
   "metadata": {},
   "source": [
    "### 3. Income Distribution by Gender"
   ]
  },
  {
   "cell_type": "code",
   "execution_count": null,
   "metadata": {},
   "outputs": [],
   "source": [
    "plt.figure(figsize=(10, 6))\n",
    "sns.boxplot(x='gender', y='income', data=df)\n",
    "plt.title('Income Distribution by Gender', fontsize=14)\n",
    "plt.xlabel('Gender', fontsize=12)\n",
    "plt.ylabel('Income', fontsize=12)\n",
    "plt.savefig('plots/income_by_gender.png', dpi=300, bbox_inches='tight')\n",
    "plt.show()"
   ]
  },
  {
   "cell_type": "markdown",
   "metadata": {},
   "source": [
    "### 4. Satisfaction Score Distribution"
   ]
  },
  {
   "cell_type": "code",
   "execution_count": null,
   "metadata": {},
   "outputs": [],
   "source": [
    "plt.figure(figsize=(10, 6))\n",
    "sns.countplot(x='satisfaction_score', data=df, order=range(1, 11))\n",
    "plt.title('Distribution of Satisfaction Scores', fontsize=14)\n",
    "plt.xlabel('Satisfaction Score', fontsize=12)\n",
    "plt.ylabel('Count', fontsize=12)\n",
    "plt.savefig('plots/satisfaction_distribution.png', dpi=300, bbox_inches='tight')\n",
    "plt.show()"
   ]
  },
  {
   "cell_type": "markdown",
   "metadata": {},
   "source": [
    "### 5. Relationship between Income and Purchase Value"
   ]
  },
  {
   "cell_type": "code",
   "execution_count": null,
   "metadata": {},
   "outputs": [],
   "source": [
    "plt.figure(figsize=(10, 6))\n",
    "sns.scatterplot(x='income', y='avg_purchase_value', hue='gender', data=df)\n",
    "plt.title('Relationship between Income and Average Purchase Value', fontsize=14)\n",
    "plt.xlabel('Income', fontsize=12)\n",
    "plt.ylabel('Average Purchase Value', fontsize=12)\n",
    "plt.savefig('plots/income_vs_purchase.png', dpi=300, bbox_inches='tight')\n",
    "plt.show()"
   ]
  },
  {
   "cell_type": "markdown",
   "metadata": {},
   "source": [
    "### 6. Product Category Distribution"
   ]
  },
  {
   "cell_type": "code",
   "execution_count": null,
   "metadata": {},
   "outputs": [],
   "source": [
    "plt.figure(figsize=(10, 6))\n",
    "category_counts = df['product_category'].value_counts().sort_index()\n",
    "sns.barplot(x=category_counts.index, y=category_counts.values)\n",
    "plt.title('Product Category Distribution', fontsize=14)\n",
    "plt.xlabel('Product Category', fontsize=12)\n",
    "plt.ylabel('Count', fontsize=12)\n",
    "plt.savefig('plots/product_category_distribution.png', dpi=300, bbox_inches='tight')\n",
    "plt.show()"
   ]
  },
  {
   "cell_type": "markdown",
   "metadata": {},
   "source": [
    "### 7. Product Category by Gender"
   ]
  },
  {
   "cell_type": "code",
   "execution_count": null,
   "metadata": {},
   "outputs": [],
   "source": [
    "plt.figure(figsize=(12, 6))\n",
    "sns.countplot(x='product_category', hue='gender', data=df)\n",
    "plt.title('Product Category Preference by Gender', fontsize=14)\n",
    "plt.xlabel('Product Category', fontsize=12)\n",
    "plt.ylabel('Count', fontsize=12)\n",
    "plt.legend(title='Gender')\n",
    "plt.savefig('plots/product_by_gender.png', dpi=300, bbox_inches='tight')\n",
    "plt.show()"
   ]
  },
  {
   "cell_type": "markdown",
   "metadata": {},
   "source": [
    "### 8. Correlation Heatmap"
   ]
  },
  {
   "cell_type": "code",
   "execution_count": null,
   "metadata": {},
   "outputs": [],
   "source": [
    "# Select only numeric columns for correlation\n",
    "numeric_df = df.select_dtypes(include=['int64', 'float64'])\n",
    "\n",
    "# Calculate correlation matrix\n",
    "corr_matrix = numeric_df.corr()\n",
    "\n",
    "# Create heatmap\n",
    "plt.figure(figsize=(12, 10))\n",
    "sns.heatmap(corr_matrix, annot=True, cmap='coolwarm', fmt='.2f', linewidths=0.5)\n",
    "plt.title('Correlation Matrix of Numeric Variables', fontsize=14)\n",
    "plt.savefig('plots/correlation_heatmap.png', dpi=300, bbox_inches='tight')\n",
    "plt.show()"
   ]
  },
  {
   "cell_type": "markdown",
   "metadata": {},
   "source": [
    "### 9. Relationship between Tenure and Satisfaction"
   ]
  },
  {
   "cell_type": "code",
   "execution_count": null,
   "metadata": {},
   "outputs": [],
   "source": [
    "plt.figure(figsize=(10, 6))\n",
    "sns.regplot(x='tenure_months', y='satisfaction_score', data=df, scatter_kws={'alpha':0.5}, line_kws={'color':'red'})\n",
    "plt.title('Relationship between Customer Tenure and Satisfaction', fontsize=14)\n",
    "plt.xlabel('Tenure (months)', fontsize=12)\n",
    "plt.ylabel('Satisfaction Score', fontsize=12)\n",
    "plt.savefig('plots/tenure_vs_satisfaction.png', dpi=300, bbox_inches='tight')\n",
    "plt.show()"
   ]
  },
  {
   "cell_type": "markdown",
   "metadata": {},
   "source": [
    "### 10. Age Distribution by Gender"
   ]
  },
  {
   "cell_type": "code",
   "execution_count": null,
   "metadata": {},
   "outputs": [],
   "source": [
    "plt.figure(figsize=(12, 6))\n",
    "sns.histplot(data=df, x='age', hue='gender', element='step', stat='density', common_norm=False)\n",
    "plt.title('Age Distribution by Gender', fontsize=14)\n",
    "plt.xlabel('Age', fontsize=12)\n",
    "plt.ylabel('Density', fontsize=12)\n",
    "plt.savefig('plots/age_by_gender.png', dpi=300, bbox_inches='tight')\n",
    "plt.show()"
   ]
  },
  {
   "cell_type": "markdown",
   "metadata": {},
   "source": [
    "## Step 4: Advanced Analysis"
   ]
  },
  {
   "cell_type": "markdown",
   "metadata": {},
   "source": [
    "### 1. Customer Segmentation by Purchase Behavior"
   ]
  },
  {
   "cell_type": "code",
   "execution_count": null,
   "metadata": {},
   "outputs": [],
   "source": [
    "# Create customer segments based on purchase frequency and average purchase value\n",
    "df['frequency_segment'] = pd.qcut(df['purchase_frequency'], 3, labels=['Low', 'Medium', 'High'])\n",
    "df['value_segment'] = pd.qcut(df['avg_purchase_value'], 3, labels=['Low', 'Medium', 'High'])\n",
    "\n",
    "# Create a combined segment\n",
    "df['customer_segment'] = df['frequency_segment'].astype(str) + '-' + df['value_segment'].astype(str)\n",
    "\n",
    "# Display the distribution of segments\n",
    "plt.figure(figsize=(12, 6))\n",
    "segment_counts = df['customer_segment'].value_counts()\n",
    "sns.barplot(x=segment_counts.index, y=segment_counts.values)\n",
    "plt.title('Customer Segments by Purchase Frequency and Value', fontsize=14)\n",
    "plt.xlabel('Segment (Frequency-Value)', fontsize=12)\n",
    "plt.ylabel('Count', fontsize=12)\n",
    "plt.xticks(rotation=45)\n",
    "plt.savefig('plots/customer_segments.png', dpi=300, bbox_inches='tight')\n",
    "plt.show()"
   ]
  },
  {
   "cell_type": "markdown",
   "metadata": {},
   "source": [
    "### 2. Average Satisfaction by Product Category and Gender"
   ]
  },
  {
   "cell_type": "code",
   "execution_count": null,
   "metadata": {},
   "outputs": [],
   "source": [
    "plt.figure(figsize=(12, 6))\n",
    "sns.barplot(x='product_category', y='satisfaction_score', hue='gender', data=df)\n",
    "plt.title('Average Satisfaction Score by Product Category and Gender', fontsize=14)\n",
    "plt.xlabel('Product Category', fontsize=12)\n",
    "plt.ylabel('Average Satisfaction Score', fontsize=12)\n",
    "plt.legend(title='Gender')\n",
    "plt.savefig('plots/satisfaction_by_category_gender.png', dpi=300, bbox_inches='tight')\n",
    "plt.show()"
   ]
  },
  {
   "cell_type": "markdown",
   "metadata": {},
   "source": [
    "### 3. Total Spend Analysis"
   ]
  },
  {
   "cell_type": "code",
   "execution_count": null,
   "metadata": {},
   "outputs": [],
   "source": [
    "# Create spend categories\n",
    "df['spend_category'] = pd.qcut(df['total_spend'], 4, labels=['Low', 'Medium-Low', 'Medium-High', 'High'])\n",
    "\n",
    "# Analyze spend by gender\n",
    "plt.figure(figsize=(10, 6))\n",
    "spend_by_gender = df.groupby('gender')['total_spend'].mean().reset_index()\n",
    "sns.barplot(x='gender', y='total_spend', data=spend_by_gender)\n",
    "plt.title('Average Total Spend by Gender', fontsize=14)\n",
    "plt.xlabel('Gender', fontsize=12)\n",
    "plt.ylabel('Average Total Spend', fontsize=12)\n",
    "plt.savefig('plots/spend_by_gender.png', dpi=300, bbox_inches='tight')\n",
    "plt.show()"
   ]
  },
  {
   "cell_type": "code",
   "execution_count": null,
   "metadata": {},
   "outputs": [],
   "source": [
    "# Analyze spend by age group\n",
    "df['age_group'] = pd.cut(df['age'], bins=[18, 30, 45, 60, 80], labels=['18-30', '31-45', '46-60', '61+'])\n",
    "\n",
    "plt.figure(figsize=(10, 6))\n",
    "spend_by_age = df.groupby('age_group')['total_spend'].mean().reset_index()\n",
    "sns.barplot(x='age_group', y='total_spend', data=spend_by_age)\n",
    "plt.title('Average Total Spend by Age Group', fontsize=14)\n",
    "plt.xlabel('Age Group', fontsize=12)\n",
    "plt.ylabel('Average Total Spend', fontsize=12)\n",
    "plt.savefig('plots/spend_by_age.png', dpi=300, bbox_inches='tight')\n",
    "plt.show()"
   ]
  },
  {
   "cell_type": "markdown",
   "metadata": {},
   "source": [
    "## Step 5: Insights and Conclusions"
   ]
  },
  {
   "cell_type": "markdown",
   "metadata": {},
   "source": [
    "Based on our analysis, we can draw the following insights:\n",
    "\n",
    "1. **Customer Demographics**: Our customer base has a balanced gender distribution with a wide age range from 18 to 79 years old.\n",
    "\n",
    "2. **Purchase Behavior**: There's a positive correlation between income and average purchase value, suggesting that higher-income customers tend to spend more per purchase.\n",
    "\n",
    "3. **Customer Satisfaction**: Longer-tenured customers generally report higher satisfaction scores, indicating that customer loyalty may be linked to positive experiences.\n",
    "\n",
    "4. **Product Preferences**: Product category preferences vary by gender, with certain categories showing stronger appeal to specific gender groups.\n",
    "\n",
    "5. **Customer Segmentation**: The segmentation analysis reveals distinct customer groups based on purchase frequency and value, which can be targeted with different marketing strategies.\n",
    "\n",
    "6. **Spending Patterns**: Total customer spend varies significantly across age groups and gender, with the highest average spend observed in the 46-60 age group.\n",
    "\n",
    "These insights can inform marketing strategies, product development, and customer retention efforts."
   ]
  }
 ],
 "metadata": {
  "kernelspec": {
   "display_name": "venvq",
   "language": "python",
   "name": "python3"
  },
  "language_info": {
   "codemirror_mode": {
    "name": "ipython",
    "version": 3
   },
   "file_extension": ".py",
   "mimetype": "text/x-python",
   "name": "python",
   "nbconvert_exporter": "python",
   "pygments_lexer": "ipython3",
   "version": "3.12.3"
  }
 },
 "nbformat": 4,
 "nbformat_minor": 4
}
